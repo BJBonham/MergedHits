{
 "cells": [
  {
   "cell_type": "code",
   "execution_count": 90,
   "metadata": {},
   "outputs": [],
   "source": [
    "import pandas, keras\n",
    "import numpy as np\n",
    "from sklearn.metrics import roc_auc_score\n",
    "from IPython.display import FileLink, FileLinks"
   ]
  },
  {
   "cell_type": "code",
   "execution_count": 91,
   "metadata": {},
   "outputs": [],
   "source": [
    "# 1 image has 16x16 pixels = 256 pixels\n",
    "pixels = [\"pixel_{0}\".format(i) for i in range(36)]\n",
    "\n",
    "def to_image(df):\n",
    "    return  np.expand_dims(np.expand_dims(df[pixels], axis=-1).reshape(-1,6,6), axis=-1)\n",
    "\n",
    "\n",
    "#store_train = pandas.HDFStore(\"SNG_p10_pixelTrain.h5\")\n",
    "store_train = pandas.HDFStore(\"pixelTrain.h5\")\n",
    "#store_train = pandas.HDFStore(\"pixelTrain.h5\")\n",
    "\n",
    "df_train = store_train.select(\"df\",stop=-1)\n",
    "df_train = df_train[(df_train[\"GenDeltaR\"]<0.1) & (df_train[\"nUniqueSimTracksInSharedHit\"]>-1)]\n",
    "#images_train = to_image(df_train)\n",
    "\n",
    "store_test = pandas.HDFStore(\"pixelTrain30k.h5\")\n",
    "\n",
    "df_test = store_test.select(\"df\",stop=-1)\n",
    "df_test = df_test[(df_test[\"GenDeltaR\"]<0.1) & (df_test[\"nUniqueSimTracksInSharedHit\"]>-1)]#print(df_test)\n",
    "images_test = to_image(df_test)\n",
    "\n",
    "#comb = pandas.concat([df_train,df_test])\n",
    "\n",
    "#df_train=comb.sample(frac=0.6)\n",
    "#df_test=comb.drop(df_train.index)\n",
    "\n",
    "#df_train = df_train[(df_train[\"GenDeltaR\"]<0.1) & (df_train[\"nUniqueSimTracksInSharedHit\"]>-1)]\n",
    "\n",
    "# Make all test, train data merged hit\n",
    "df_test = df_test[(df_test[\"isSharedHit\"]>0)]\n",
    "df_train = df_train[(df_train[\"isSharedHit\"]>0)]\n",
    "\n",
    "#images_train = to_image(df_train)\n",
    "#images_test = to_image(df_test)\n",
    "\n",
    "\n",
    "#print(df_train.iloc[[28946]])\n",
    "#print(df_train)\n",
    "#print df_train\n",
    "#print sum(df_train[\"isSharedHit\"])\n"
   ]
  },
  {
   "cell_type": "code",
   "execution_count": 92,
   "metadata": {},
   "outputs": [
    {
     "name": "stdout",
     "output_type": "stream",
     "text": [
      "(82, 42)\n",
      "(313, 42)\n"
     ]
    }
   ],
   "source": [
    "store_train = pandas.HDFStore(\"pixelTrain.h5\")\n",
    "\n",
    "df_train = store_train.select(\"df\",stop=-1)\n",
    "df_train = df_train[(df_train[\"GenDeltaR\"]<0.1) & (df_train[\"nUniqueSimTracksInSharedHit\"]>-1)]\n",
    "\n",
    "store_test = pandas.HDFStore(\"pixelTrain30k.h5\")\n",
    "\n",
    "df_test = store_test.select(\"df\",stop=-1)\n",
    "df_test = df_test[(df_test[\"GenDeltaR\"]<0.1) & (df_test[\"nUniqueSimTracksInSharedHit\"]>-1)]#print(df_test)\n",
    "\n",
    "print df_test.shape\n",
    "print df_train.shape\n",
    "\n",
    "# Remove overlap between train and test data\n",
    "df_combined = pandas.concat([df_test, df_train]).drop_duplicates(keep=False)\n",
    "df_combined.shape\n",
    "\n",
    "\n",
    "# New combined files\n",
    "df_train=df_combined.sample(frac=0.6)\n",
    "df_test=df_combined.drop(df_train.index)\n",
    "\n",
    "# Make all test, train data merged hit\n",
    "df_test = df_test[(df_test[\"isSharedHit\"]>0)]\n",
    "df_train = df_train[(df_train[\"isSharedHit\"]>0)]\n",
    "\n",
    "df_train = df_train[(df_train[\"GenDeltaR\"]<0.1) & (df_train[\"nUniqueSimTracksInSharedHit\"]>-1)]\n",
    "\n",
    "\n",
    "images_train = to_image(df_train)\n",
    "images_test = to_image(df_test)\n"
   ]
  },
  {
   "cell_type": "code",
   "execution_count": 93,
   "metadata": {},
   "outputs": [
    {
     "data": {
      "text/html": [
       "<div>\n",
       "<style scoped>\n",
       "    .dataframe tbody tr th:only-of-type {\n",
       "        vertical-align: middle;\n",
       "    }\n",
       "\n",
       "    .dataframe tbody tr th {\n",
       "        vertical-align: top;\n",
       "    }\n",
       "\n",
       "    .dataframe thead th {\n",
       "        text-align: right;\n",
       "    }\n",
       "</style>\n",
       "<table border=\"1\" class=\"dataframe\">\n",
       "  <thead>\n",
       "    <tr style=\"text-align: right;\">\n",
       "      <th></th>\n",
       "      <th>isMergedHit</th>\n",
       "      <th>isSharedHit</th>\n",
       "      <th>trackPt</th>\n",
       "      <th>trackEta</th>\n",
       "      <th>trackPhi</th>\n",
       "      <th>nUniqueSimTracksInSharedHit</th>\n",
       "      <th>GenDeltaR</th>\n",
       "      <th>pixel_0</th>\n",
       "      <th>pixel_1</th>\n",
       "      <th>pixel_2</th>\n",
       "      <th>...</th>\n",
       "      <th>pixel_26</th>\n",
       "      <th>pixel_27</th>\n",
       "      <th>pixel_28</th>\n",
       "      <th>pixel_29</th>\n",
       "      <th>pixel_30</th>\n",
       "      <th>pixel_31</th>\n",
       "      <th>pixel_32</th>\n",
       "      <th>pixel_33</th>\n",
       "      <th>pixel_34</th>\n",
       "      <th>pixel_35</th>\n",
       "    </tr>\n",
       "  </thead>\n",
       "  <tbody>\n",
       "    <tr>\n",
       "      <th>25</th>\n",
       "      <td>0</td>\n",
       "      <td>1</td>\n",
       "      <td>1.929511</td>\n",
       "      <td>-2.201498</td>\n",
       "      <td>1.929511</td>\n",
       "      <td>1.0</td>\n",
       "      <td>0.014203</td>\n",
       "      <td>0.0</td>\n",
       "      <td>0.0</td>\n",
       "      <td>0.0</td>\n",
       "      <td>...</td>\n",
       "      <td>0.074612</td>\n",
       "      <td>0.040008</td>\n",
       "      <td>0.000000</td>\n",
       "      <td>0.0</td>\n",
       "      <td>0.0</td>\n",
       "      <td>0.0</td>\n",
       "      <td>0.107974</td>\n",
       "      <td>0.000000</td>\n",
       "      <td>0.000000</td>\n",
       "      <td>0.0</td>\n",
       "    </tr>\n",
       "    <tr>\n",
       "      <th>92</th>\n",
       "      <td>0</td>\n",
       "      <td>1</td>\n",
       "      <td>1.927646</td>\n",
       "      <td>-2.203123</td>\n",
       "      <td>1.927646</td>\n",
       "      <td>1.0</td>\n",
       "      <td>0.016287</td>\n",
       "      <td>0.0</td>\n",
       "      <td>0.0</td>\n",
       "      <td>0.0</td>\n",
       "      <td>...</td>\n",
       "      <td>0.000000</td>\n",
       "      <td>0.403630</td>\n",
       "      <td>0.056244</td>\n",
       "      <td>0.0</td>\n",
       "      <td>0.0</td>\n",
       "      <td>0.0</td>\n",
       "      <td>0.000000</td>\n",
       "      <td>0.000000</td>\n",
       "      <td>0.000000</td>\n",
       "      <td>0.0</td>\n",
       "    </tr>\n",
       "    <tr>\n",
       "      <th>140</th>\n",
       "      <td>0</td>\n",
       "      <td>1</td>\n",
       "      <td>4.689703</td>\n",
       "      <td>-2.010829</td>\n",
       "      <td>4.689703</td>\n",
       "      <td>1.0</td>\n",
       "      <td>0.032041</td>\n",
       "      <td>0.0</td>\n",
       "      <td>0.0</td>\n",
       "      <td>0.0</td>\n",
       "      <td>...</td>\n",
       "      <td>0.000000</td>\n",
       "      <td>0.193271</td>\n",
       "      <td>0.000000</td>\n",
       "      <td>0.0</td>\n",
       "      <td>0.0</td>\n",
       "      <td>0.0</td>\n",
       "      <td>0.000000</td>\n",
       "      <td>0.182736</td>\n",
       "      <td>0.000000</td>\n",
       "      <td>0.0</td>\n",
       "    </tr>\n",
       "    <tr>\n",
       "      <th>324</th>\n",
       "      <td>1</td>\n",
       "      <td>1</td>\n",
       "      <td>9.880289</td>\n",
       "      <td>-1.865279</td>\n",
       "      <td>9.880289</td>\n",
       "      <td>2.0</td>\n",
       "      <td>0.002863</td>\n",
       "      <td>0.0</td>\n",
       "      <td>0.0</td>\n",
       "      <td>0.0</td>\n",
       "      <td>...</td>\n",
       "      <td>0.000000</td>\n",
       "      <td>0.137176</td>\n",
       "      <td>0.069709</td>\n",
       "      <td>0.0</td>\n",
       "      <td>0.0</td>\n",
       "      <td>0.0</td>\n",
       "      <td>0.000000</td>\n",
       "      <td>0.073712</td>\n",
       "      <td>0.101975</td>\n",
       "      <td>0.0</td>\n",
       "    </tr>\n",
       "    <tr>\n",
       "      <th>331</th>\n",
       "      <td>1</td>\n",
       "      <td>1</td>\n",
       "      <td>1.467527</td>\n",
       "      <td>-2.182899</td>\n",
       "      <td>1.467527</td>\n",
       "      <td>2.0</td>\n",
       "      <td>0.003103</td>\n",
       "      <td>0.0</td>\n",
       "      <td>0.0</td>\n",
       "      <td>0.0</td>\n",
       "      <td>...</td>\n",
       "      <td>0.000000</td>\n",
       "      <td>0.222396</td>\n",
       "      <td>0.000000</td>\n",
       "      <td>0.0</td>\n",
       "      <td>0.0</td>\n",
       "      <td>0.0</td>\n",
       "      <td>0.000000</td>\n",
       "      <td>0.190251</td>\n",
       "      <td>0.000000</td>\n",
       "      <td>0.0</td>\n",
       "    </tr>\n",
       "  </tbody>\n",
       "</table>\n",
       "<p>5 rows × 43 columns</p>\n",
       "</div>"
      ],
      "text/plain": [
       "     isMergedHit  isSharedHit   trackPt  trackEta  trackPhi  \\\n",
       "25             0            1  1.929511 -2.201498  1.929511   \n",
       "92             0            1  1.927646 -2.203123  1.927646   \n",
       "140            0            1  4.689703 -2.010829  4.689703   \n",
       "324            1            1  9.880289 -1.865279  9.880289   \n",
       "331            1            1  1.467527 -2.182899  1.467527   \n",
       "\n",
       "     nUniqueSimTracksInSharedHit  GenDeltaR  pixel_0  pixel_1  pixel_2  \\\n",
       "25                           1.0   0.014203      0.0      0.0      0.0   \n",
       "92                           1.0   0.016287      0.0      0.0      0.0   \n",
       "140                          1.0   0.032041      0.0      0.0      0.0   \n",
       "324                          2.0   0.002863      0.0      0.0      0.0   \n",
       "331                          2.0   0.003103      0.0      0.0      0.0   \n",
       "\n",
       "       ...     pixel_26  pixel_27  pixel_28  pixel_29  pixel_30  pixel_31  \\\n",
       "25     ...     0.074612  0.040008  0.000000       0.0       0.0       0.0   \n",
       "92     ...     0.000000  0.403630  0.056244       0.0       0.0       0.0   \n",
       "140    ...     0.000000  0.193271  0.000000       0.0       0.0       0.0   \n",
       "324    ...     0.000000  0.137176  0.069709       0.0       0.0       0.0   \n",
       "331    ...     0.000000  0.222396  0.000000       0.0       0.0       0.0   \n",
       "\n",
       "     pixel_32  pixel_33  pixel_34  pixel_35  \n",
       "25   0.107974  0.000000  0.000000       0.0  \n",
       "92   0.000000  0.000000  0.000000       0.0  \n",
       "140  0.000000  0.182736  0.000000       0.0  \n",
       "324  0.000000  0.073712  0.101975       0.0  \n",
       "331  0.000000  0.190251  0.000000       0.0  \n",
       "\n",
       "[5 rows x 43 columns]"
      ]
     },
     "execution_count": 93,
     "metadata": {},
     "output_type": "execute_result"
    }
   ],
   "source": [
    "# Adding isMergedHit column \n",
    "\n",
    "merged_hit = df_train[\"nUniqueSimTracksInSharedHit\"]>1\n",
    "merged_int = merged_hit.astype(int)\n",
    "df_train.insert(0, \"isMergedHit\", merged_int, True)\n",
    "\n",
    "#df_train.head()\n",
    "\n",
    "merged_hit_test = df_test[\"nUniqueSimTracksInSharedHit\"]>1\n",
    "merged_int_test = merged_hit_test.astype(int)\n",
    "df_test.insert(0, \"isMergedHit\", merged_int_test, True)\n",
    "\n",
    "df_test.head()"
   ]
  },
  {
   "cell_type": "code",
   "execution_count": 99,
   "metadata": {},
   "outputs": [
    {
     "name": "stdout",
     "output_type": "stream",
     "text": [
      "25     1\n",
      "92     1\n",
      "140    1\n",
      "324    1\n",
      "331    1\n",
      "Name: isSharedHit, dtype: int32\n",
      "4617    1\n",
      "7640    1\n",
      "1080    1\n",
      "7494    1\n",
      "5828    1\n",
      "Name: isSharedHit, dtype: int32\n"
     ]
    }
   ],
   "source": [
    "# Check that all are merged hits i.e. isSharedHit=1\n",
    "print df_test['isSharedHit'].head()\n",
    "\n",
    "print df_train['isSharedHit'].head()"
   ]
  },
  {
   "cell_type": "code",
   "execution_count": 100,
   "metadata": {},
   "outputs": [
    {
     "name": "stdout",
     "output_type": "stream",
     "text": [
      "(115, 43)\n",
      "(174, 43)\n"
     ]
    }
   ],
   "source": [
    "print df_test.shape\n",
    "print df_train.shape"
   ]
  },
  {
   "cell_type": "code",
   "execution_count": 101,
   "metadata": {},
   "outputs": [
    {
     "name": "stdout",
     "output_type": "stream",
     "text": [
      "Train on 156 samples, validate on 18 samples\n",
      "Epoch 1/30\n",
      "156/156 [==============================] - 0s 2ms/step - loss: 0.6932 - acc: 0.4744 - val_loss: 0.6952 - val_acc: 0.4444\n",
      "Epoch 2/30\n",
      "156/156 [==============================] - 0s 129us/step - loss: 0.6817 - acc: 0.6346 - val_loss: 0.6891 - val_acc: 0.5000\n",
      "Epoch 3/30\n",
      "156/156 [==============================] - 0s 222us/step - loss: 0.6682 - acc: 0.6282 - val_loss: 0.6862 - val_acc: 0.5000\n",
      "Epoch 4/30\n",
      "156/156 [==============================] - 0s 133us/step - loss: 0.6530 - acc: 0.6474 - val_loss: 0.6821 - val_acc: 0.5000\n",
      "Epoch 5/30\n",
      "156/156 [==============================] - 0s 107us/step - loss: 0.6359 - acc: 0.6346 - val_loss: 0.6840 - val_acc: 0.4444\n",
      "Epoch 6/30\n",
      "156/156 [==============================] - 0s 104us/step - loss: 0.6177 - acc: 0.6410 - val_loss: 0.6769 - val_acc: 0.4444\n",
      "Epoch 7/30\n",
      "156/156 [==============================] - 0s 320us/step - loss: 0.5980 - acc: 0.6474 - val_loss: 0.6754 - val_acc: 0.5000\n",
      "Epoch 8/30\n",
      "156/156 [==============================] - 0s 105us/step - loss: 0.5769 - acc: 0.6859 - val_loss: 0.6636 - val_acc: 0.5000\n",
      "Epoch 9/30\n",
      "156/156 [==============================] - 0s 105us/step - loss: 0.5619 - acc: 0.6923 - val_loss: 0.6703 - val_acc: 0.5000\n",
      "Epoch 10/30\n",
      "156/156 [==============================] - 0s 390us/step - loss: 0.5518 - acc: 0.7179 - val_loss: 0.6461 - val_acc: 0.6667\n",
      "Epoch 11/30\n",
      "156/156 [==============================] - 0s 112us/step - loss: 0.5416 - acc: 0.7692 - val_loss: 0.6383 - val_acc: 0.6667\n",
      "Epoch 12/30\n",
      "156/156 [==============================] - 0s 116us/step - loss: 0.5141 - acc: 0.7885 - val_loss: 0.6542 - val_acc: 0.6667\n",
      "Epoch 13/30\n",
      "156/156 [==============================] - 0s 228us/step - loss: 0.5095 - acc: 0.7885 - val_loss: 0.6340 - val_acc: 0.6667\n",
      "Epoch 14/30\n",
      "156/156 [==============================] - 0s 157us/step - loss: 0.4951 - acc: 0.7756 - val_loss: 0.6166 - val_acc: 0.7222\n",
      "Epoch 15/30\n",
      "156/156 [==============================] - 0s 124us/step - loss: 0.4828 - acc: 0.7756 - val_loss: 0.6201 - val_acc: 0.7222\n",
      "Epoch 16/30\n",
      "156/156 [==============================] - 0s 114us/step - loss: 0.4701 - acc: 0.7949 - val_loss: 0.6392 - val_acc: 0.6111\n",
      "Epoch 17/30\n",
      "156/156 [==============================] - 0s 298us/step - loss: 0.4790 - acc: 0.7949 - val_loss: 0.6057 - val_acc: 0.7222\n",
      "Epoch 18/30\n",
      "156/156 [==============================] - 0s 113us/step - loss: 0.4578 - acc: 0.7821 - val_loss: 0.6055 - val_acc: 0.7222\n",
      "Epoch 19/30\n",
      "156/156 [==============================] - 0s 125us/step - loss: 0.4496 - acc: 0.8013 - val_loss: 0.5916 - val_acc: 0.7778\n",
      "Epoch 20/30\n",
      "156/156 [==============================] - 0s 286us/step - loss: 0.4416 - acc: 0.7885 - val_loss: 0.6136 - val_acc: 0.6667\n",
      "Epoch 21/30\n",
      "156/156 [==============================] - 0s 110us/step - loss: 0.4459 - acc: 0.8077 - val_loss: 0.6079 - val_acc: 0.6667\n",
      "Epoch 22/30\n",
      "156/156 [==============================] - 0s 104us/step - loss: 0.4278 - acc: 0.8013 - val_loss: 0.5906 - val_acc: 0.7222\n",
      "Epoch 23/30\n",
      "156/156 [==============================] - 0s 109us/step - loss: 0.4266 - acc: 0.7756 - val_loss: 0.5832 - val_acc: 0.7222\n",
      "Epoch 24/30\n",
      "156/156 [==============================] - 0s 287us/step - loss: 0.4213 - acc: 0.8269 - val_loss: 0.5858 - val_acc: 0.7222\n",
      "Epoch 25/30\n",
      "156/156 [==============================] - 0s 108us/step - loss: 0.4184 - acc: 0.8205 - val_loss: 0.5697 - val_acc: 0.7778\n",
      "Epoch 26/30\n",
      "156/156 [==============================] - 0s 107us/step - loss: 0.4145 - acc: 0.8013 - val_loss: 0.5862 - val_acc: 0.7222\n",
      "Epoch 27/30\n",
      "156/156 [==============================] - 0s 107us/step - loss: 0.4067 - acc: 0.8269 - val_loss: 0.5627 - val_acc: 0.7778\n",
      "Epoch 28/30\n",
      "156/156 [==============================] - 0s 196us/step - loss: 0.3902 - acc: 0.8462 - val_loss: 0.5517 - val_acc: 0.7778\n",
      "Epoch 29/30\n",
      "156/156 [==============================] - 0s 104us/step - loss: 0.3948 - acc: 0.8333 - val_loss: 0.5641 - val_acc: 0.7222\n",
      "Epoch 30/30\n",
      "156/156 [==============================] - 0s 108us/step - loss: 0.3839 - acc: 0.8462 - val_loss: 0.5476 - val_acc: 0.7778\n",
      "<bound method Sequential.summary of <keras.engine.sequential.Sequential object at 0x7fb1086fc250>>\n"
     ]
    }
   ],
   "source": [
    "from keras.layers import Dense, Dropout, Activation\n",
    "# Define the network\n",
    "model = keras.models.Sequential()\n",
    "\n",
    "model.add(keras.layers.Conv2D(32, kernel_size=(4,4), padding='same', activation='relu'))\n",
    "#model.add(keras.layers.Conv2D(16, kernel_size=(4,4), padding='same', activation='relu'))\n",
    "#model.add(keras.layers.Conv2D(16, kernel_size=(2,2), padding='same', activation='relu'))\n",
    "#model.add(keras.layers.Conv2D(16, kernel_size=(1,1), padding='same', activation='relu'))\n",
    "# max pooling 2D\n",
    "#model.add(keras.layers.MaxPooling2D(pool_size=(2, 2), padding='same', data_format=\"channels_last\"))\n",
    "model.add(keras.layers.Flatten(input_shape=(6,6,1),data_format = \"channels_last\"))\n",
    "#model.add(keras.layers.Dense(200, activation='relu'))\n",
    "model.add(keras.layers.Dense(50, activation='relu'))\n",
    "# dropout 10%\n",
    "model.add(Dropout(0.1))\n",
    "model.add(keras.layers.Dense(2, activation='softmax'))\n",
    "#print(model.summary())\n",
    "                                                    \n",
    "# Train the network\n",
    "model.compile(loss='categorical_crossentropy', optimizer=\"adam\", metrics = [\"accuracy\"])\n",
    "model.fit(images_train, keras.utils.to_categorical(df_train[\"nUniqueSimTracksInSharedHit\"]>1), epochs=30, validation_split=0.1) # validation fraction\n",
    "print(model.summary)"
   ]
  },
  {
   "cell_type": "code",
   "execution_count": 102,
   "metadata": {},
   "outputs": [],
   "source": [
    "#store_test = pandas.HDFStore(\"pixelTrain30k.h5\")\n",
    "\n",
    "#df_test = store_test.select(\"df\",stop=-1)\n",
    "##pixels\n",
    "#df_test[pixels]"
   ]
  },
  {
   "cell_type": "code",
   "execution_count": 103,
   "metadata": {
    "scrolled": true
   },
   "outputs": [
    {
     "name": "stdout",
     "output_type": "stream",
     "text": [
      "Running on full test sample. This may take a moment.\n",
      "[[0.86367273 0.13632727]\n",
      " [0.33504027 0.6649597 ]\n",
      " [0.621781   0.378219  ]\n",
      " [0.58943814 0.41056186]\n",
      " [0.62625414 0.3737458 ]\n",
      " [0.8652039  0.1347961 ]\n",
      " [0.8939384  0.10606164]\n",
      " [0.4143256  0.58567446]\n",
      " [0.39262182 0.6073782 ]\n",
      " [0.13199022 0.8680098 ]\n",
      " [0.6313606  0.36863944]\n",
      " [0.55366075 0.44633928]\n",
      " [0.7859291  0.21407093]\n",
      " [0.6660059  0.33399412]\n",
      " [0.02784233 0.9721577 ]\n",
      " [0.0881343  0.91186565]\n",
      " [0.4133895  0.58661056]\n",
      " [0.04944958 0.9505504 ]\n",
      " [0.39731243 0.60268754]\n",
      " [0.34117082 0.6588292 ]\n",
      " [0.11619178 0.8838082 ]\n",
      " [0.06702919 0.93297076]\n",
      " [0.8227611  0.17723888]\n",
      " [0.7990948  0.20090517]\n",
      " [0.46140173 0.53859824]\n",
      " [0.09529932 0.90470064]\n",
      " [0.1329486  0.8670514 ]\n",
      " [0.8536216  0.14637832]\n",
      " [0.11647966 0.88352036]\n",
      " [0.09165178 0.90834814]\n",
      " [0.11842925 0.8815708 ]\n",
      " [0.73701763 0.2629824 ]\n",
      " [0.49381727 0.5061828 ]\n",
      " [0.8384104  0.16158961]\n",
      " [0.574801   0.425199  ]\n",
      " [0.08686254 0.9131375 ]\n",
      " [0.3798284  0.6201716 ]\n",
      " [0.09069878 0.9093013 ]\n",
      " [0.8525371  0.14746287]\n",
      " [0.07676724 0.92323273]\n",
      " [0.8338747  0.16612521]\n",
      " [0.6065727  0.39342734]\n",
      " [0.28149098 0.71850896]\n",
      " [0.07434089 0.9256591 ]\n",
      " [0.72251135 0.27748868]\n",
      " [0.7501868  0.24981321]\n",
      " [0.69717103 0.30282894]\n",
      " [0.4679382  0.53206176]\n",
      " [0.34076324 0.6592367 ]\n",
      " [0.3653105  0.63468957]\n",
      " [0.74173677 0.2582633 ]\n",
      " [0.07432937 0.9256707 ]\n",
      " [0.7626964  0.23730363]\n",
      " [0.31693083 0.6830691 ]\n",
      " [0.17236936 0.8276306 ]\n",
      " [0.11614411 0.8838559 ]\n",
      " [0.72562426 0.27437577]\n",
      " [0.5323515  0.4676485 ]\n",
      " [0.08885577 0.91114426]\n",
      " [0.83615816 0.16384184]\n",
      " [0.84454095 0.1554591 ]\n",
      " [0.8713666  0.12863335]\n",
      " [0.07277363 0.9272264 ]\n",
      " [0.48541644 0.5145835 ]\n",
      " [0.7381816  0.26181838]\n",
      " [0.7122851  0.2877149 ]\n",
      " [0.77571064 0.22428933]\n",
      " [0.06082156 0.9391784 ]\n",
      " [0.8735861  0.12641385]\n",
      " [0.16307434 0.8369257 ]\n",
      " [0.8207975  0.17920254]\n",
      " [0.03407625 0.9659237 ]\n",
      " [0.67279536 0.3272047 ]\n",
      " [0.787816   0.21218404]\n",
      " [0.41479024 0.5852097 ]\n",
      " [0.37486503 0.625135  ]\n",
      " [0.10594567 0.89405435]\n",
      " [0.62279093 0.3772091 ]\n",
      " [0.7167029  0.2832971 ]\n",
      " [0.09615515 0.9038449 ]\n",
      " [0.39229527 0.60770476]\n",
      " [0.5766321  0.4233679 ]\n",
      " [0.07023455 0.92976546]\n",
      " [0.23839499 0.76160496]\n",
      " [0.07505449 0.9249455 ]\n",
      " [0.5933791  0.406621  ]\n",
      " [0.37080893 0.62919104]\n",
      " [0.65853524 0.3414648 ]\n",
      " [0.76924825 0.23075181]\n",
      " [0.4465429  0.55345714]\n",
      " [0.75448704 0.24551298]\n",
      " [0.06734671 0.93265325]\n",
      " [0.75456244 0.24543758]\n",
      " [0.34643683 0.65356314]\n",
      " [0.8851952  0.1148048 ]\n",
      " [0.77571064 0.22428933]\n",
      " [0.07096051 0.9290395 ]\n",
      " [0.7361718  0.26382825]\n",
      " [0.6073286  0.39267138]\n",
      " [0.845604   0.154396  ]\n",
      " [0.8244487  0.17555131]\n",
      " [0.10543524 0.89456475]\n",
      " [0.10859862 0.8914014 ]\n",
      " [0.08109637 0.91890365]\n",
      " [0.49100468 0.5089953 ]\n",
      " [0.09214164 0.90785843]\n",
      " [0.797199   0.20280102]\n",
      " [0.07020776 0.9297922 ]\n",
      " [0.297285   0.702715  ]\n",
      " [0.8449371  0.15506291]\n",
      " [0.77571064 0.22428933]\n",
      " [0.8248168  0.17518318]\n",
      " [0.39927968 0.6007203 ]\n",
      " [0.11070355 0.8892965 ]\n",
      " [0.09340966 0.90659034]]\n"
     ]
    }
   ],
   "source": [
    "### Evaluate performance on independent sample\n",
    "# DO NOT CHANGE BELOW!\n",
    "\n",
    "# Prepare input\n",
    "#store_test = pandas.HDFStore(\"SNG_p10_pixelTrain.h5\")\n",
    "\n",
    "\n",
    "#store_test = pandas.HDFStore(\"pixelTest_v3.h5\")\n",
    "#store_test = pandas.HDFStore(\"pixelTrain30k.h5\")\n",
    "\n",
    "#df_test = store_test.select(\"df\",stop=-1)\n",
    "#df_test = df_test[(df_test[\"GenDeltaR\"]<0.1) & (df_test[\"nUniqueSimTracksInSharedHit\"]>-1)]#print(df_test)\n",
    "#images_test = to_image(df_test)\n",
    "#images_test = pandas.read_hdf(\"pixelTrain.h5\")\n",
    "#images_test = images_train\n",
    "#df_test = df_train\n",
    "\n",
    "# Run DNN\n",
    "print(\"Running on full test sample. This may take a moment.\")\n",
    "ret = model.predict(images_test)\n",
    "np.save(\"result.npy\",ret[:,1])\n",
    "print(ret)\n",
    "#print ret\n",
    "#print df_test[\"isSharedHit\"]\n",
    "#keras.utils.to_categorical(df_test[\"isSharedHit\"])\n",
    "#print len(keras.utils.to_categorical(df_test[\"isSharedHit\"]))\n",
    "#print keras.utils.to_categorical(df_train[\"isSharedHit\"],dtype='int32').sum()\n",
    "#print len(keras.utils.to_categorical(df_train[\"isSharedHit\"])),keras.utils.to_categorical(df_train[\"isSharedHit\"]).sum()"
   ]
  },
  {
   "cell_type": "code",
   "execution_count": 104,
   "metadata": {},
   "outputs": [
    {
     "name": "stdout",
     "output_type": "stream",
     "text": [
      "[0.   0.   0.02 0.02 0.04 0.04 0.08 0.08 0.1  0.1  0.12 0.12 0.14 0.14\n",
      " 0.16 0.16 0.26 0.26 0.34 0.34 0.44 0.44 0.46 0.46 0.52 0.52 0.54 0.58\n",
      " 0.74 0.74 1.  ] [0.01538462 0.41538462 0.41538462 0.49230769 0.49230769 0.56923077\n",
      " 0.56923077 0.73846154 0.73846154 0.78461538 0.78461538 0.81538462\n",
      " 0.81538462 0.84615385 0.84615385 0.89230769 0.89230769 0.90769231\n",
      " 0.90769231 0.92307692 0.92307692 0.93846154 0.93846154 0.95384615\n",
      " 0.95384615 0.96923077 0.96923077 0.98461538 0.98461538 1.\n",
      " 1.        ]\n",
      "0.9107692307692308\n",
      "False\n",
      "31 31\n"
     ]
    }
   ],
   "source": [
    "from sklearn.metrics import roc_curve\n",
    "#fpr_keras, tpr_keras, thresholds_keras = roc_curve(keras.utils.to_categorical(df_test[\"isSharedHit\"])[:,1], ret[:,1])\n",
    "fpr_keras, tpr_keras, thresholds_keras = roc_curve(keras.utils.to_categorical(df_test[\"nUniqueSimTracksInSharedHit\"]>1)[:,1], ret[:,1])\n",
    "\n",
    "print fpr_keras,tpr_keras\n",
    "from sklearn.metrics import auc\n",
    "auc_keras = auc(fpr_keras, tpr_keras)\n",
    "print auc_keras\n",
    "print np.isnan(fpr_keras).all()\n",
    "print len(fpr_keras),len(tpr_keras)\n",
    "np.save(\"fpr_keras.npy\",fpr_keras)\n",
    "np.save(\"tpr_keras.npy\",tpr_keras)"
   ]
  },
  {
   "cell_type": "code",
   "execution_count": 105,
   "metadata": {},
   "outputs": [
    {
     "name": "stdout",
     "output_type": "stream",
     "text": [
      "0.9107692307692308\n"
     ]
    },
    {
     "data": {
      "image/png": "[encoded data removed]",
      "text/plain": [
       "<Figure size 432x288 with 1 Axes>"
      ]
     },
     "metadata": {},
     "output_type": "display_data"
    }
   ],
   "source": [
    "import numpy as np\n",
    "fpr_keras = np.load(\"fpr_keras.npy\")\n",
    "tpr_keras = np.load(\"tpr_keras.npy\")\n",
    "#print fpr_keras[2300]\n",
    "auc = np.trapz(tpr_keras,fpr_keras)\n",
    "print auc\n",
    "#auc_keras = 0.623416233325797\n",
    "#auc_keras = 0.665570454761781\n",
    "#print test\n",
    "import matplotlib.pyplot as plt\n",
    "plt.figure(1)\n",
    "#plt.figure(figsize=(200, 200))\n",
    "#plt.plot([0, 1], [0, 1], label='test')\n",
    "#plt.plot([1,2,3],[5,6,7], label = 'test')\n",
    "plt.plot(fpr_keras, tpr_keras, label='Keras (area = {:.3f})'.format(auc))\n",
    "#plt.plot(fpr_keras, tpr_keras, label='test')\n",
    "plt.xlabel('False positive rate')\n",
    "plt.ylabel('True positive rate')\n",
    "plt.title('ROC curve (area = {:.3f})'.format(auc))\n",
    "#plt.legend(loc='best')\n",
    "plt.savefig(\"ROC.png\")\n",
    "plt.savefig(\"ROC.pdf\")\n",
    "\n",
    "plt.show()\n"
   ]
  },
  {
   "cell_type": "code",
   "execution_count": 106,
   "metadata": {},
   "outputs": [
    {
     "data": {
      "text/html": [
       "<div>\n",
       "<style scoped>\n",
       "    .dataframe tbody tr th:only-of-type {\n",
       "        vertical-align: middle;\n",
       "    }\n",
       "\n",
       "    .dataframe tbody tr th {\n",
       "        vertical-align: top;\n",
       "    }\n",
       "\n",
       "    .dataframe thead th {\n",
       "        text-align: right;\n",
       "    }\n",
       "</style>\n",
       "<table border=\"1\" class=\"dataframe\">\n",
       "  <thead>\n",
       "    <tr style=\"text-align: right;\">\n",
       "      <th></th>\n",
       "      <th>isMergedHit</th>\n",
       "      <th>isSharedHit</th>\n",
       "      <th>trackPt</th>\n",
       "      <th>trackEta</th>\n",
       "      <th>trackPhi</th>\n",
       "      <th>nUniqueSimTracksInSharedHit</th>\n",
       "      <th>GenDeltaR</th>\n",
       "      <th>pixel_0</th>\n",
       "      <th>pixel_1</th>\n",
       "      <th>pixel_2</th>\n",
       "      <th>...</th>\n",
       "      <th>pixel_26</th>\n",
       "      <th>pixel_27</th>\n",
       "      <th>pixel_28</th>\n",
       "      <th>pixel_29</th>\n",
       "      <th>pixel_30</th>\n",
       "      <th>pixel_31</th>\n",
       "      <th>pixel_32</th>\n",
       "      <th>pixel_33</th>\n",
       "      <th>pixel_34</th>\n",
       "      <th>pixel_35</th>\n",
       "    </tr>\n",
       "  </thead>\n",
       "  <tbody>\n",
       "  </tbody>\n",
       "</table>\n",
       "<p>0 rows × 43 columns</p>\n",
       "</div>"
      ],
      "text/plain": [
       "Empty DataFrame\n",
       "Columns: [isMergedHit, isSharedHit, trackPt, trackEta, trackPhi, nUniqueSimTracksInSharedHit, GenDeltaR, pixel_0, pixel_1, pixel_2, pixel_3, pixel_4, pixel_5, pixel_6, pixel_7, pixel_8, pixel_9, pixel_10, pixel_11, pixel_12, pixel_13, pixel_14, pixel_15, pixel_16, pixel_17, pixel_18, pixel_19, pixel_20, pixel_21, pixel_22, pixel_23, pixel_24, pixel_25, pixel_26, pixel_27, pixel_28, pixel_29, pixel_30, pixel_31, pixel_32, pixel_33, pixel_34, pixel_35]\n",
       "Index: []\n",
       "\n",
       "[0 rows x 43 columns]"
      ]
     },
     "execution_count": 106,
     "metadata": {},
     "output_type": "execute_result"
    }
   ],
   "source": [
    "#sanity check: no overlap between train and test\n",
    "pandas.merge(df_train, df_test, on=[x for x in df_train.columns], how='inner')"
   ]
  },
  {
   "cell_type": "code",
   "execution_count": 107,
   "metadata": {},
   "outputs": [
    {
     "data": {
      "text/plain": [
       "(174, 43)"
      ]
     },
     "execution_count": 107,
     "metadata": {},
     "output_type": "execute_result"
    }
   ],
   "source": [
    "df_train.shape"
   ]
  },
  {
   "cell_type": "code",
   "execution_count": 108,
   "metadata": {},
   "outputs": [
    {
     "data": {
      "text/plain": [
       "(115, 43)"
      ]
     },
     "execution_count": 108,
     "metadata": {},
     "output_type": "execute_result"
    }
   ],
   "source": [
    "df_test.shape"
   ]
  },
  {
   "cell_type": "code",
   "execution_count": 109,
   "metadata": {},
   "outputs": [],
   "source": [
    "#df_test[(df_test[\"nUniqueSimTracksInSharedHit\"]>-1) & (df_test[\"GenDeltaR\"]<0.1)]"
   ]
  },
  {
   "cell_type": "code",
   "execution_count": 110,
   "metadata": {},
   "outputs": [
    {
     "name": "stdout",
     "output_type": "stream",
     "text": [
      "shared hits with at least 2 sim tracks:\n",
      "0.563218390805\n"
     ]
    },
    {
     "data": {
      "text/plain": [
       "Text(0.5,1,'nUniqueSimTracksInSharedHit')"
      ]
     },
     "execution_count": 110,
     "metadata": {},
     "output_type": "execute_result"
    },
    {
     "data": {
      "image/png": "[encoded data removed]",
      "text/plain": [
       "<Figure size 432x288 with 1 Axes>"
      ]
     },
     "metadata": {},
     "output_type": "display_data"
    }
   ],
   "source": [
    "print \"shared hits with at least 2 sim tracks:\"\n",
    "print float(sum(df_train[\"nUniqueSimTracksInSharedHit\"]>1))/len(df_train[\"nUniqueSimTracksInSharedHit\"])\n",
    "plt.hist(df_train[\"nUniqueSimTracksInSharedHit\"],histtype=\"step\",bins=6,range=(-0.5,5.5))\n",
    "plt.title(\"nUniqueSimTracksInSharedHit\")"
   ]
  },
  {
   "cell_type": "code",
   "execution_count": 111,
   "metadata": {},
   "outputs": [
    {
     "data": {
      "text/plain": [
       "174"
      ]
     },
     "execution_count": 111,
     "metadata": {},
     "output_type": "execute_result"
    }
   ],
   "source": [
    "sum(df_train[\"nUniqueSimTracksInSharedHit\"]>-1)"
   ]
  },
  {
   "cell_type": "code",
   "execution_count": 112,
   "metadata": {},
   "outputs": [
    {
     "data": {
      "text/plain": [
       "0.0027333333333333333"
      ]
     },
     "execution_count": 112,
     "metadata": {},
     "output_type": "execute_result"
    }
   ],
   "source": [
    "82.0/30000"
   ]
  },
  {
   "cell_type": "code",
   "execution_count": 113,
   "metadata": {},
   "outputs": [],
   "source": [
    "import matplotlib.pyplot as plt"
   ]
  },
  {
   "cell_type": "code",
   "execution_count": 114,
   "metadata": {},
   "outputs": [
    {
     "name": "stdout",
     "output_type": "stream",
     "text": [
      "0.563218390805\n"
     ]
    },
    {
     "data": {
      "image/png": "[encoded data removed]",
      "text/plain": [
       "<Figure size 432x288 with 1 Axes>"
      ]
     },
     "metadata": {},
     "output_type": "display_data"
    }
   ],
   "source": [
    "print float(sum(df_train[\"nUniqueSimTracksInSharedHit\"]>1))/len(df_train[\"nUniqueSimTracksInSharedHit\"])\n",
    "plt.hist(df_train[\"nUniqueSimTracksInSharedHit\"]>1,histtype=\"step\",bins=2,range=(-0.5,1.5))\n",
    "plt.title(\"Distribution of Hits in Training Data\")\n",
    "plt.xticks([0,1],(\"Not Merged\",\"Merged\"))\n",
    "plt.savefig(\"merged_dist.png\")\n",
    "plt.savefig(\"merged_dist.pdf\")"
   ]
  }
 ],
 "metadata": {
  "kernelspec": {
   "display_name": "Python 2",
   "language": "python",
   "name": "python2"
  },
  "language_info": {
   "codemirror_mode": {
    "name": "ipython",
    "version": 2
   },
   "file_extension": ".py",
   "mimetype": "text/x-python",
   "name": "python",
   "nbconvert_exporter": "python",
   "pygments_lexer": "ipython2",
   "version": "2.7.15"
  }
 },
 "nbformat": 4,
 "nbformat_minor": 2
}
