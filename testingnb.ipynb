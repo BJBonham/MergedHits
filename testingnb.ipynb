{
 "cells": [
  {
   "cell_type": "code",
   "execution_count": 17,
   "metadata": {},
   "outputs": [],
   "source": [
    "filenumber = 5\n",
    "filenames = [\"/uscms_data/d3/bbonham/TrackerProject/Output_of_Postprocess/SharedHits/NormalizedCharge/output_final.h5\",\n",
    "                 \"/uscms_data/d3/bbonham/TrackerProject/Output_of_Postprocess/SharedHits/AbsoluteCharge/output_final.h5\",\n",
    "                 \"/uscms_data/d3/bbonham/TrackerProject/Output_of_Postprocess/Shared100NonShared/NormalizedCharge/output_final.h5\",\n",
    "                 \"/uscms_data/d3/bbonham/TrackerProject/Output_of_Postprocess/Shared100NonShared/AbsoluteCharge/output_final.h5\",\n",
    "                 \"/uscms_data/d3/bbonham/TrackerProject/Output_of_Postprocess/AllHits/NormalizedCharge/output_final.h5\",\n",
    "                 \"/uscms_data/d3/bbonham/TrackerProject/Output_of_Postprocess/AllHits/AbsoluteCharge/output_final.h5\"]\n",
    "filename = filenames[filenumber]"
   ]
  },
  {
   "cell_type": "code",
   "execution_count": 28,
   "metadata": {},
   "outputs": [
    {
     "data": {
      "text/plain": [
       "'AllHits/AbsoluteCharge'"
      ]
     },
     "execution_count": 28,
     "metadata": {},
     "output_type": "execute_result"
    }
   ],
   "source": [
    "filename[60:-16]"
   ]
  },
  {
   "cell_type": "code",
   "execution_count": 30,
   "metadata": {},
   "outputs": [
    {
     "data": {
      "text/plain": [
       "'TrainedClassifier_AllHits_AbsoluteCharge.h5'"
      ]
     },
     "execution_count": 30,
     "metadata": {},
     "output_type": "execute_result"
    }
   ],
   "source": [
    "'TrainedClassifier_{}.h5'.format(filename[60:-16].replace('/','_'))"
   ]
  }
 ],
 "metadata": {
  "kernelspec": {
   "display_name": "Python 2",
   "language": "python",
   "name": "python2"
  },
  "language_info": {
   "codemirror_mode": {
    "name": "ipython",
    "version": 2
   },
   "file_extension": ".py",
   "mimetype": "text/x-python",
   "name": "python",
   "nbconvert_exporter": "python",
   "pygments_lexer": "ipython2",
   "version": "2.7.15+"
  }
 },
 "nbformat": 4,
 "nbformat_minor": 2
}
